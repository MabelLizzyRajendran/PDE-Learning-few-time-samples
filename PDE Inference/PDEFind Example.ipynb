{
 "cells": [
  {
   "cell_type": "code",
   "execution_count": null,
   "metadata": {},
   "outputs": [],
   "source": [
    "from PDEFind_class import PDE_Findclass\n",
    "from PDE_FIND2 import class_convert_vars\n",
    "import glob, os"
   ]
  },
  {
   "cell_type": "code",
   "execution_count": null,
   "metadata": {},
   "outputs": [],
   "source": [
    "# which dataset do you want to consider?\n",
    "sim = \"slow\" #options : \"slow\",\"diffuse\",\"fast\",\"nodular\"\n",
    "\n",
    "#on what time interval?\n",
    "\n",
    "time_int = \"long\" #options: \"long\", \"short\"\n",
    "\n",
    "#how many time points?\n",
    "\n",
    "N = 5            #options: 3,5,10\n",
    "\n",
    "noise = 0.01     #options: 0.01, 0.05\n",
    "\n",
    "#convert vars for use with PDEFind_class\n",
    "sim_class, time_int_class, N_class, noise_class = class_convert_vars(sim,time_int,N,noise)"
   ]
  },
  {
   "cell_type": "code",
   "execution_count": null,
   "metadata": {},
   "outputs": [],
   "source": [
    "dim = 1\n",
    "# form of denoising\n",
    "comp_str = '_ann'\n",
    "\n",
    "#training split for PDE-FIND\n",
    "trainPerc = 0.5\n",
    "valPerc = 0.5\n",
    "\n",
    "shuf_method = 'perm'\n",
    "algo_name = \"Greedy\"\n",
    "prune_level = 0.05\n",
    "num_eqns = 3\n",
    "save_learned_eqns = True\n",
    "print_pdes = True\n",
    "#save all xi values during training\n",
    "save_xi = True\n",
    "#save the final value of xi after training\n",
    "save_learned_xi = True\n",
    "\n",
    "#PDE-FIND values\n",
    "data_dir = \"surface_data/\"\n",
    "\n",
    "reals = 100\n",
    "\n",
    "\n",
    "\n",
    "pf = PDE_Findclass([\"fkpp_1d\"+time_int_class+\"_\"+str(sim_class)+\"_\"+N_class+\"pts_\"+noise_class],\n",
    "                   comp_str,\n",
    "                   data_dir=data_dir,\n",
    "                   reals=reals,\n",
    "                   trainPerc = trainPerc,\n",
    "                   valPerc = valPerc,\n",
    "                   print_pdes = print_pdes,\n",
    "                   save_xi = save_xi,\n",
    "                   save_learned_xi = save_learned_xi,\n",
    "                   prune_level = prune_level,\n",
    "                   num_eqns=num_eqns,\n",
    "                   save_learned_eqns = save_learned_eqns,\n",
    "                   shuf_method = shuf_method,\n",
    "                   algo_name = algo_name)\n"
   ]
  },
  {
   "cell_type": "code",
   "execution_count": null,
   "metadata": {
    "scrolled": false
   },
   "outputs": [],
   "source": [
    "pf.train_val_PDEFind()\n",
    "print(\"For data from the \" +sim+ \" simulation, with \"+str(N) + \"data points over the \" +time_int+ \" time interval with\")\n",
    "print(str(noise) + \"% noise, PDE-FIND predicts the following models:\")\n",
    "pf.list_common_eqns()\n"
   ]
  },
  {
   "cell_type": "code",
   "execution_count": null,
   "metadata": {},
   "outputs": [],
   "source": [
    "pf.simulate_learned_eqns_compare()"
   ]
  }
 ],
 "metadata": {
  "kernelspec": {
   "display_name": "Python 3",
   "language": "python",
   "name": "python3"
  },
  "language_info": {
   "codemirror_mode": {
    "name": "ipython",
    "version": 3
   },
   "file_extension": ".py",
   "mimetype": "text/x-python",
   "name": "python",
   "nbconvert_exporter": "python",
   "pygments_lexer": "ipython3",
   "version": "3.7.3"
  }
 },
 "nbformat": 4,
 "nbformat_minor": 2
}
